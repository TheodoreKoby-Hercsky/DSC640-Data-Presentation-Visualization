{
 "cells": [
  {
   "cell_type": "code",
   "execution_count": 1,
   "id": "3080effb",
   "metadata": {},
   "outputs": [],
   "source": [
    "# First I will import some needed libraries\n",
    "import pandas as pd\n",
    "from importlib import reload\n",
    "import sys\n",
    "import numpy as np\n",
    "import matplotlib.pyplot as plt \n",
    "import matplotlib.gridspec as gridspec \n",
    "%matplotlib inline\n",
    "import seaborn as sns "
   ]
  },
  {
   "cell_type": "markdown",
   "id": "30d95fef",
   "metadata": {},
   "source": [
    "## Importing the Data"
   ]
  },
  {
   "cell_type": "code",
   "execution_count": 2,
   "id": "348c40b2",
   "metadata": {},
   "outputs": [
    {
     "data": {
      "text/html": [
       "<div>\n",
       "<style scoped>\n",
       "    .dataframe tbody tr th:only-of-type {\n",
       "        vertical-align: middle;\n",
       "    }\n",
       "\n",
       "    .dataframe tbody tr th {\n",
       "        vertical-align: top;\n",
       "    }\n",
       "\n",
       "    .dataframe thead th {\n",
       "        text-align: right;\n",
       "    }\n",
       "</style>\n",
       "<table border=\"1\" class=\"dataframe\">\n",
       "  <thead>\n",
       "    <tr style=\"text-align: right;\">\n",
       "      <th></th>\n",
       "      <th>state</th>\n",
       "      <th>murder</th>\n",
       "      <th>forcible_rape</th>\n",
       "      <th>robbery</th>\n",
       "      <th>aggravated_assault</th>\n",
       "      <th>burglary</th>\n",
       "      <th>larceny_theft</th>\n",
       "      <th>motor_vehicle_theft</th>\n",
       "    </tr>\n",
       "  </thead>\n",
       "  <tbody>\n",
       "    <tr>\n",
       "      <th>0</th>\n",
       "      <td>United States</td>\n",
       "      <td>5.6</td>\n",
       "      <td>31.7</td>\n",
       "      <td>140.7</td>\n",
       "      <td>291.1</td>\n",
       "      <td>726.7</td>\n",
       "      <td>2286.3</td>\n",
       "      <td>416.7</td>\n",
       "    </tr>\n",
       "    <tr>\n",
       "      <th>1</th>\n",
       "      <td>Alabama</td>\n",
       "      <td>8.2</td>\n",
       "      <td>34.3</td>\n",
       "      <td>141.4</td>\n",
       "      <td>247.8</td>\n",
       "      <td>953.8</td>\n",
       "      <td>2650.0</td>\n",
       "      <td>288.3</td>\n",
       "    </tr>\n",
       "    <tr>\n",
       "      <th>2</th>\n",
       "      <td>Alaska</td>\n",
       "      <td>4.8</td>\n",
       "      <td>81.1</td>\n",
       "      <td>80.9</td>\n",
       "      <td>465.1</td>\n",
       "      <td>622.5</td>\n",
       "      <td>2599.1</td>\n",
       "      <td>391.0</td>\n",
       "    </tr>\n",
       "    <tr>\n",
       "      <th>3</th>\n",
       "      <td>Arizona</td>\n",
       "      <td>7.5</td>\n",
       "      <td>33.8</td>\n",
       "      <td>144.4</td>\n",
       "      <td>327.4</td>\n",
       "      <td>948.4</td>\n",
       "      <td>2965.2</td>\n",
       "      <td>924.4</td>\n",
       "    </tr>\n",
       "    <tr>\n",
       "      <th>4</th>\n",
       "      <td>Arkansas</td>\n",
       "      <td>6.7</td>\n",
       "      <td>42.9</td>\n",
       "      <td>91.1</td>\n",
       "      <td>386.8</td>\n",
       "      <td>1084.6</td>\n",
       "      <td>2711.2</td>\n",
       "      <td>262.1</td>\n",
       "    </tr>\n",
       "    <tr>\n",
       "      <th>5</th>\n",
       "      <td>California</td>\n",
       "      <td>6.9</td>\n",
       "      <td>26.0</td>\n",
       "      <td>176.1</td>\n",
       "      <td>317.3</td>\n",
       "      <td>693.3</td>\n",
       "      <td>1916.5</td>\n",
       "      <td>712.8</td>\n",
       "    </tr>\n",
       "    <tr>\n",
       "      <th>6</th>\n",
       "      <td>Colorado</td>\n",
       "      <td>3.7</td>\n",
       "      <td>43.4</td>\n",
       "      <td>84.6</td>\n",
       "      <td>264.7</td>\n",
       "      <td>744.8</td>\n",
       "      <td>2735.2</td>\n",
       "      <td>559.5</td>\n",
       "    </tr>\n",
       "    <tr>\n",
       "      <th>7</th>\n",
       "      <td>Connecticut</td>\n",
       "      <td>2.9</td>\n",
       "      <td>20.0</td>\n",
       "      <td>113.0</td>\n",
       "      <td>138.6</td>\n",
       "      <td>437.1</td>\n",
       "      <td>1824.1</td>\n",
       "      <td>296.8</td>\n",
       "    </tr>\n",
       "    <tr>\n",
       "      <th>8</th>\n",
       "      <td>Delaware</td>\n",
       "      <td>4.4</td>\n",
       "      <td>44.7</td>\n",
       "      <td>154.8</td>\n",
       "      <td>428.2</td>\n",
       "      <td>688.9</td>\n",
       "      <td>2144.0</td>\n",
       "      <td>278.5</td>\n",
       "    </tr>\n",
       "    <tr>\n",
       "      <th>9</th>\n",
       "      <td>District of Columbia</td>\n",
       "      <td>35.4</td>\n",
       "      <td>30.2</td>\n",
       "      <td>672.1</td>\n",
       "      <td>721.3</td>\n",
       "      <td>649.7</td>\n",
       "      <td>2694.9</td>\n",
       "      <td>1402.3</td>\n",
       "    </tr>\n",
       "    <tr>\n",
       "      <th>10</th>\n",
       "      <td>Florida</td>\n",
       "      <td>5.0</td>\n",
       "      <td>37.1</td>\n",
       "      <td>169.4</td>\n",
       "      <td>496.6</td>\n",
       "      <td>926.3</td>\n",
       "      <td>2658.3</td>\n",
       "      <td>423.3</td>\n",
       "    </tr>\n",
       "    <tr>\n",
       "      <th>11</th>\n",
       "      <td>Georgia</td>\n",
       "      <td>6.2</td>\n",
       "      <td>23.6</td>\n",
       "      <td>154.8</td>\n",
       "      <td>264.3</td>\n",
       "      <td>931.0</td>\n",
       "      <td>2751.1</td>\n",
       "      <td>490.2</td>\n",
       "    </tr>\n",
       "    <tr>\n",
       "      <th>12</th>\n",
       "      <td>Hawaii</td>\n",
       "      <td>1.9</td>\n",
       "      <td>26.9</td>\n",
       "      <td>78.5</td>\n",
       "      <td>147.8</td>\n",
       "      <td>767.9</td>\n",
       "      <td>3308.4</td>\n",
       "      <td>716.4</td>\n",
       "    </tr>\n",
       "    <tr>\n",
       "      <th>13</th>\n",
       "      <td>Idaho</td>\n",
       "      <td>2.4</td>\n",
       "      <td>40.4</td>\n",
       "      <td>18.6</td>\n",
       "      <td>195.4</td>\n",
       "      <td>564.4</td>\n",
       "      <td>1931.7</td>\n",
       "      <td>201.8</td>\n",
       "    </tr>\n",
       "    <tr>\n",
       "      <th>14</th>\n",
       "      <td>Illinois</td>\n",
       "      <td>6.0</td>\n",
       "      <td>33.7</td>\n",
       "      <td>181.7</td>\n",
       "      <td>330.2</td>\n",
       "      <td>606.9</td>\n",
       "      <td>2164.8</td>\n",
       "      <td>308.6</td>\n",
       "    </tr>\n",
       "    <tr>\n",
       "      <th>15</th>\n",
       "      <td>Indiana</td>\n",
       "      <td>5.7</td>\n",
       "      <td>29.6</td>\n",
       "      <td>108.6</td>\n",
       "      <td>179.9</td>\n",
       "      <td>697.6</td>\n",
       "      <td>2412.0</td>\n",
       "      <td>346.7</td>\n",
       "    </tr>\n",
       "    <tr>\n",
       "      <th>16</th>\n",
       "      <td>Iowa</td>\n",
       "      <td>1.3</td>\n",
       "      <td>27.9</td>\n",
       "      <td>38.9</td>\n",
       "      <td>223.3</td>\n",
       "      <td>606.4</td>\n",
       "      <td>2042.7</td>\n",
       "      <td>184.6</td>\n",
       "    </tr>\n",
       "    <tr>\n",
       "      <th>17</th>\n",
       "      <td>Kansas</td>\n",
       "      <td>3.7</td>\n",
       "      <td>38.4</td>\n",
       "      <td>65.3</td>\n",
       "      <td>280.0</td>\n",
       "      <td>689.2</td>\n",
       "      <td>2758.1</td>\n",
       "      <td>339.6</td>\n",
       "    </tr>\n",
       "    <tr>\n",
       "      <th>18</th>\n",
       "      <td>Kentucky</td>\n",
       "      <td>4.6</td>\n",
       "      <td>34.0</td>\n",
       "      <td>88.4</td>\n",
       "      <td>139.8</td>\n",
       "      <td>634.0</td>\n",
       "      <td>1685.8</td>\n",
       "      <td>210.8</td>\n",
       "    </tr>\n",
       "    <tr>\n",
       "      <th>19</th>\n",
       "      <td>Louisiana</td>\n",
       "      <td>9.9</td>\n",
       "      <td>31.4</td>\n",
       "      <td>118.0</td>\n",
       "      <td>435.1</td>\n",
       "      <td>870.6</td>\n",
       "      <td>2494.5</td>\n",
       "      <td>318.1</td>\n",
       "    </tr>\n",
       "    <tr>\n",
       "      <th>20</th>\n",
       "      <td>Maine</td>\n",
       "      <td>1.4</td>\n",
       "      <td>24.7</td>\n",
       "      <td>24.4</td>\n",
       "      <td>61.7</td>\n",
       "      <td>478.5</td>\n",
       "      <td>1832.6</td>\n",
       "      <td>102.0</td>\n",
       "    </tr>\n",
       "    <tr>\n",
       "      <th>21</th>\n",
       "      <td>Maryland</td>\n",
       "      <td>9.9</td>\n",
       "      <td>22.6</td>\n",
       "      <td>256.7</td>\n",
       "      <td>413.8</td>\n",
       "      <td>641.4</td>\n",
       "      <td>2294.3</td>\n",
       "      <td>608.4</td>\n",
       "    </tr>\n",
       "    <tr>\n",
       "      <th>22</th>\n",
       "      <td>Massachusetts</td>\n",
       "      <td>2.7</td>\n",
       "      <td>27.1</td>\n",
       "      <td>119.0</td>\n",
       "      <td>308.1</td>\n",
       "      <td>541.1</td>\n",
       "      <td>1527.4</td>\n",
       "      <td>295.1</td>\n",
       "    </tr>\n",
       "    <tr>\n",
       "      <th>23</th>\n",
       "      <td>Michigan</td>\n",
       "      <td>6.1</td>\n",
       "      <td>51.3</td>\n",
       "      <td>131.8</td>\n",
       "      <td>362.9</td>\n",
       "      <td>696.8</td>\n",
       "      <td>1917.8</td>\n",
       "      <td>476.5</td>\n",
       "    </tr>\n",
       "    <tr>\n",
       "      <th>24</th>\n",
       "      <td>Minnesota</td>\n",
       "      <td>2.2</td>\n",
       "      <td>44.0</td>\n",
       "      <td>92.0</td>\n",
       "      <td>158.7</td>\n",
       "      <td>578.9</td>\n",
       "      <td>2226.9</td>\n",
       "      <td>278.2</td>\n",
       "    </tr>\n",
       "    <tr>\n",
       "      <th>25</th>\n",
       "      <td>Mississippi</td>\n",
       "      <td>7.3</td>\n",
       "      <td>39.3</td>\n",
       "      <td>82.3</td>\n",
       "      <td>149.4</td>\n",
       "      <td>919.7</td>\n",
       "      <td>2083.9</td>\n",
       "      <td>256.5</td>\n",
       "    </tr>\n",
       "    <tr>\n",
       "      <th>26</th>\n",
       "      <td>Missouri</td>\n",
       "      <td>6.9</td>\n",
       "      <td>28.0</td>\n",
       "      <td>124.1</td>\n",
       "      <td>366.4</td>\n",
       "      <td>738.3</td>\n",
       "      <td>2746.2</td>\n",
       "      <td>443.1</td>\n",
       "    </tr>\n",
       "    <tr>\n",
       "      <th>27</th>\n",
       "      <td>Montana</td>\n",
       "      <td>1.9</td>\n",
       "      <td>32.2</td>\n",
       "      <td>18.9</td>\n",
       "      <td>228.5</td>\n",
       "      <td>389.2</td>\n",
       "      <td>2543.0</td>\n",
       "      <td>210.7</td>\n",
       "    </tr>\n",
       "    <tr>\n",
       "      <th>28</th>\n",
       "      <td>Nebraska</td>\n",
       "      <td>2.5</td>\n",
       "      <td>32.9</td>\n",
       "      <td>59.1</td>\n",
       "      <td>192.5</td>\n",
       "      <td>532.4</td>\n",
       "      <td>2574.3</td>\n",
       "      <td>316.5</td>\n",
       "    </tr>\n",
       "    <tr>\n",
       "      <th>29</th>\n",
       "      <td>Nevada</td>\n",
       "      <td>8.5</td>\n",
       "      <td>42.1</td>\n",
       "      <td>194.7</td>\n",
       "      <td>361.5</td>\n",
       "      <td>972.4</td>\n",
       "      <td>2153.9</td>\n",
       "      <td>1115.2</td>\n",
       "    </tr>\n",
       "    <tr>\n",
       "      <th>30</th>\n",
       "      <td>New Hampshire</td>\n",
       "      <td>1.4</td>\n",
       "      <td>30.9</td>\n",
       "      <td>27.4</td>\n",
       "      <td>72.3</td>\n",
       "      <td>317.0</td>\n",
       "      <td>1377.3</td>\n",
       "      <td>102.1</td>\n",
       "    </tr>\n",
       "    <tr>\n",
       "      <th>31</th>\n",
       "      <td>New Jersey</td>\n",
       "      <td>4.8</td>\n",
       "      <td>13.9</td>\n",
       "      <td>151.6</td>\n",
       "      <td>184.4</td>\n",
       "      <td>447.1</td>\n",
       "      <td>1568.4</td>\n",
       "      <td>317.5</td>\n",
       "    </tr>\n",
       "    <tr>\n",
       "      <th>32</th>\n",
       "      <td>New Mexico</td>\n",
       "      <td>7.4</td>\n",
       "      <td>54.1</td>\n",
       "      <td>98.7</td>\n",
       "      <td>541.9</td>\n",
       "      <td>1093.9</td>\n",
       "      <td>2639.9</td>\n",
       "      <td>414.5</td>\n",
       "    </tr>\n",
       "    <tr>\n",
       "      <th>33</th>\n",
       "      <td>New York</td>\n",
       "      <td>4.5</td>\n",
       "      <td>18.9</td>\n",
       "      <td>182.7</td>\n",
       "      <td>239.7</td>\n",
       "      <td>353.3</td>\n",
       "      <td>1569.6</td>\n",
       "      <td>185.6</td>\n",
       "    </tr>\n",
       "    <tr>\n",
       "      <th>34</th>\n",
       "      <td>North Carolina</td>\n",
       "      <td>6.7</td>\n",
       "      <td>26.5</td>\n",
       "      <td>145.5</td>\n",
       "      <td>289.4</td>\n",
       "      <td>1201.1</td>\n",
       "      <td>2546.2</td>\n",
       "      <td>327.8</td>\n",
       "    </tr>\n",
       "    <tr>\n",
       "      <th>35</th>\n",
       "      <td>North Dakota</td>\n",
       "      <td>1.1</td>\n",
       "      <td>24.2</td>\n",
       "      <td>7.4</td>\n",
       "      <td>65.5</td>\n",
       "      <td>311.9</td>\n",
       "      <td>1500.3</td>\n",
       "      <td>166.0</td>\n",
       "    </tr>\n",
       "    <tr>\n",
       "      <th>36</th>\n",
       "      <td>Ohio</td>\n",
       "      <td>5.1</td>\n",
       "      <td>39.8</td>\n",
       "      <td>163.1</td>\n",
       "      <td>143.4</td>\n",
       "      <td>872.8</td>\n",
       "      <td>2429.0</td>\n",
       "      <td>360.9</td>\n",
       "    </tr>\n",
       "    <tr>\n",
       "      <th>37</th>\n",
       "      <td>Oklahoma</td>\n",
       "      <td>5.3</td>\n",
       "      <td>41.7</td>\n",
       "      <td>91.0</td>\n",
       "      <td>370.5</td>\n",
       "      <td>1006.0</td>\n",
       "      <td>2644.2</td>\n",
       "      <td>391.8</td>\n",
       "    </tr>\n",
       "    <tr>\n",
       "      <th>38</th>\n",
       "      <td>Oregon</td>\n",
       "      <td>2.2</td>\n",
       "      <td>34.8</td>\n",
       "      <td>68.1</td>\n",
       "      <td>181.8</td>\n",
       "      <td>758.6</td>\n",
       "      <td>3112.2</td>\n",
       "      <td>529.0</td>\n",
       "    </tr>\n",
       "    <tr>\n",
       "      <th>39</th>\n",
       "      <td>Pennsylvania</td>\n",
       "      <td>6.1</td>\n",
       "      <td>28.9</td>\n",
       "      <td>154.6</td>\n",
       "      <td>235.0</td>\n",
       "      <td>451.6</td>\n",
       "      <td>1729.1</td>\n",
       "      <td>236.5</td>\n",
       "    </tr>\n",
       "    <tr>\n",
       "      <th>40</th>\n",
       "      <td>Rhode Island</td>\n",
       "      <td>3.2</td>\n",
       "      <td>29.8</td>\n",
       "      <td>72.1</td>\n",
       "      <td>146.1</td>\n",
       "      <td>494.2</td>\n",
       "      <td>1816.0</td>\n",
       "      <td>408.7</td>\n",
       "    </tr>\n",
       "    <tr>\n",
       "      <th>41</th>\n",
       "      <td>South Carolina</td>\n",
       "      <td>7.4</td>\n",
       "      <td>42.5</td>\n",
       "      <td>132.1</td>\n",
       "      <td>579.0</td>\n",
       "      <td>1000.9</td>\n",
       "      <td>2954.1</td>\n",
       "      <td>384.4</td>\n",
       "    </tr>\n",
       "    <tr>\n",
       "      <th>42</th>\n",
       "      <td>South Dakota</td>\n",
       "      <td>2.3</td>\n",
       "      <td>46.7</td>\n",
       "      <td>18.6</td>\n",
       "      <td>108.1</td>\n",
       "      <td>324.4</td>\n",
       "      <td>1343.7</td>\n",
       "      <td>108.4</td>\n",
       "    </tr>\n",
       "    <tr>\n",
       "      <th>43</th>\n",
       "      <td>Tennessee</td>\n",
       "      <td>7.2</td>\n",
       "      <td>36.4</td>\n",
       "      <td>167.3</td>\n",
       "      <td>541.9</td>\n",
       "      <td>1026.9</td>\n",
       "      <td>2828.1</td>\n",
       "      <td>420.6</td>\n",
       "    </tr>\n",
       "    <tr>\n",
       "      <th>44</th>\n",
       "      <td>Texas</td>\n",
       "      <td>6.2</td>\n",
       "      <td>37.2</td>\n",
       "      <td>156.6</td>\n",
       "      <td>329.8</td>\n",
       "      <td>961.6</td>\n",
       "      <td>2961.7</td>\n",
       "      <td>408.7</td>\n",
       "    </tr>\n",
       "    <tr>\n",
       "      <th>45</th>\n",
       "      <td>Utah</td>\n",
       "      <td>2.3</td>\n",
       "      <td>37.3</td>\n",
       "      <td>44.3</td>\n",
       "      <td>143.4</td>\n",
       "      <td>606.2</td>\n",
       "      <td>2918.8</td>\n",
       "      <td>343.9</td>\n",
       "    </tr>\n",
       "    <tr>\n",
       "      <th>46</th>\n",
       "      <td>Vermont</td>\n",
       "      <td>1.3</td>\n",
       "      <td>23.3</td>\n",
       "      <td>11.7</td>\n",
       "      <td>83.5</td>\n",
       "      <td>491.8</td>\n",
       "      <td>1686.1</td>\n",
       "      <td>102.9</td>\n",
       "    </tr>\n",
       "    <tr>\n",
       "      <th>47</th>\n",
       "      <td>Virginia</td>\n",
       "      <td>6.1</td>\n",
       "      <td>22.7</td>\n",
       "      <td>99.2</td>\n",
       "      <td>154.8</td>\n",
       "      <td>392.1</td>\n",
       "      <td>2035.0</td>\n",
       "      <td>211.1</td>\n",
       "    </tr>\n",
       "    <tr>\n",
       "      <th>48</th>\n",
       "      <td>Washington</td>\n",
       "      <td>3.3</td>\n",
       "      <td>44.7</td>\n",
       "      <td>92.1</td>\n",
       "      <td>205.8</td>\n",
       "      <td>959.7</td>\n",
       "      <td>3149.5</td>\n",
       "      <td>783.9</td>\n",
       "    </tr>\n",
       "    <tr>\n",
       "      <th>49</th>\n",
       "      <td>West Virginia</td>\n",
       "      <td>4.4</td>\n",
       "      <td>17.7</td>\n",
       "      <td>44.6</td>\n",
       "      <td>206.1</td>\n",
       "      <td>621.2</td>\n",
       "      <td>1794.0</td>\n",
       "      <td>210.0</td>\n",
       "    </tr>\n",
       "    <tr>\n",
       "      <th>50</th>\n",
       "      <td>Wisconsin</td>\n",
       "      <td>3.5</td>\n",
       "      <td>20.6</td>\n",
       "      <td>82.2</td>\n",
       "      <td>135.2</td>\n",
       "      <td>440.8</td>\n",
       "      <td>1992.8</td>\n",
       "      <td>226.6</td>\n",
       "    </tr>\n",
       "    <tr>\n",
       "      <th>51</th>\n",
       "      <td>Wyoming</td>\n",
       "      <td>2.7</td>\n",
       "      <td>24.0</td>\n",
       "      <td>15.3</td>\n",
       "      <td>188.1</td>\n",
       "      <td>476.3</td>\n",
       "      <td>2533.9</td>\n",
       "      <td>145.1</td>\n",
       "    </tr>\n",
       "  </tbody>\n",
       "</table>\n",
       "</div>"
      ],
      "text/plain": [
       "                   state  murder  forcible_rape  robbery  aggravated_assault  \\\n",
       "0         United States      5.6           31.7    140.7               291.1   \n",
       "1               Alabama      8.2           34.3    141.4               247.8   \n",
       "2                Alaska      4.8           81.1     80.9               465.1   \n",
       "3               Arizona      7.5           33.8    144.4               327.4   \n",
       "4               Arkansas     6.7           42.9     91.1               386.8   \n",
       "5            California      6.9           26.0    176.1               317.3   \n",
       "6              Colorado      3.7           43.4     84.6               264.7   \n",
       "7           Connecticut      2.9           20.0    113.0               138.6   \n",
       "8              Delaware      4.4           44.7    154.8               428.2   \n",
       "9   District of Columbia    35.4           30.2    672.1               721.3   \n",
       "10              Florida      5.0           37.1    169.4               496.6   \n",
       "11              Georgia      6.2           23.6    154.8               264.3   \n",
       "12               Hawaii      1.9           26.9     78.5               147.8   \n",
       "13                Idaho      2.4           40.4     18.6               195.4   \n",
       "14             Illinois      6.0           33.7    181.7               330.2   \n",
       "15              Indiana      5.7           29.6    108.6               179.9   \n",
       "16                 Iowa      1.3           27.9     38.9               223.3   \n",
       "17              Kansas       3.7           38.4     65.3               280.0   \n",
       "18            Kentucky       4.6           34.0     88.4               139.8   \n",
       "19            Louisiana      9.9           31.4    118.0               435.1   \n",
       "20                Maine      1.4           24.7     24.4                61.7   \n",
       "21             Maryland      9.9           22.6    256.7               413.8   \n",
       "22         Massachusetts     2.7           27.1    119.0               308.1   \n",
       "23              Michigan     6.1           51.3    131.8               362.9   \n",
       "24            Minnesota      2.2           44.0     92.0               158.7   \n",
       "25          Mississippi      7.3           39.3     82.3               149.4   \n",
       "26             Missouri      6.9           28.0    124.1               366.4   \n",
       "27             Montana       1.9           32.2     18.9               228.5   \n",
       "28             Nebraska      2.5           32.9     59.1               192.5   \n",
       "29               Nevada      8.5           42.1    194.7               361.5   \n",
       "30        New Hampshire      1.4           30.9     27.4                72.3   \n",
       "31            New Jersey     4.8           13.9    151.6               184.4   \n",
       "32           New Mexico      7.4           54.1     98.7               541.9   \n",
       "33              New York     4.5           18.9    182.7               239.7   \n",
       "34       North Carolina      6.7           26.5    145.5               289.4   \n",
       "35         North Dakota      1.1           24.2      7.4                65.5   \n",
       "36                 Ohio      5.1           39.8    163.1               143.4   \n",
       "37             Oklahoma      5.3           41.7     91.0               370.5   \n",
       "38               Oregon      2.2           34.8     68.1               181.8   \n",
       "39          Pennsylvania     6.1           28.9    154.6               235.0   \n",
       "40         Rhode Island      3.2           29.8     72.1               146.1   \n",
       "41       South Carolina      7.4           42.5    132.1               579.0   \n",
       "42         South Dakota      2.3           46.7     18.6               108.1   \n",
       "43            Tennessee      7.2           36.4    167.3               541.9   \n",
       "44                Texas      6.2           37.2    156.6               329.8   \n",
       "45                  Utah     2.3           37.3     44.3               143.4   \n",
       "46              Vermont      1.3           23.3     11.7                83.5   \n",
       "47             Virginia      6.1           22.7     99.2               154.8   \n",
       "48           Washington      3.3           44.7     92.1               205.8   \n",
       "49        West Virginia      4.4           17.7     44.6               206.1   \n",
       "50            Wisconsin      3.5           20.6     82.2               135.2   \n",
       "51              Wyoming      2.7           24.0     15.3               188.1   \n",
       "\n",
       "    burglary  larceny_theft  motor_vehicle_theft  \n",
       "0      726.7         2286.3                416.7  \n",
       "1      953.8         2650.0                288.3  \n",
       "2      622.5         2599.1                391.0  \n",
       "3      948.4         2965.2                924.4  \n",
       "4     1084.6         2711.2                262.1  \n",
       "5      693.3         1916.5                712.8  \n",
       "6      744.8         2735.2                559.5  \n",
       "7      437.1         1824.1                296.8  \n",
       "8      688.9         2144.0                278.5  \n",
       "9      649.7         2694.9               1402.3  \n",
       "10     926.3         2658.3                423.3  \n",
       "11     931.0         2751.1                490.2  \n",
       "12     767.9         3308.4                716.4  \n",
       "13     564.4         1931.7                201.8  \n",
       "14     606.9         2164.8                308.6  \n",
       "15     697.6         2412.0                346.7  \n",
       "16     606.4         2042.7                184.6  \n",
       "17     689.2         2758.1                339.6  \n",
       "18     634.0         1685.8                210.8  \n",
       "19     870.6         2494.5                318.1  \n",
       "20     478.5         1832.6                102.0  \n",
       "21     641.4         2294.3                608.4  \n",
       "22     541.1         1527.4                295.1  \n",
       "23     696.8         1917.8                476.5  \n",
       "24     578.9         2226.9                278.2  \n",
       "25     919.7         2083.9                256.5  \n",
       "26     738.3         2746.2                443.1  \n",
       "27     389.2         2543.0                210.7  \n",
       "28     532.4         2574.3                316.5  \n",
       "29     972.4         2153.9               1115.2  \n",
       "30     317.0         1377.3                102.1  \n",
       "31     447.1         1568.4                317.5  \n",
       "32    1093.9         2639.9                414.5  \n",
       "33     353.3         1569.6                185.6  \n",
       "34    1201.1         2546.2                327.8  \n",
       "35     311.9         1500.3                166.0  \n",
       "36     872.8         2429.0                360.9  \n",
       "37    1006.0         2644.2                391.8  \n",
       "38     758.6         3112.2                529.0  \n",
       "39     451.6         1729.1                236.5  \n",
       "40     494.2         1816.0                408.7  \n",
       "41    1000.9         2954.1                384.4  \n",
       "42     324.4         1343.7                108.4  \n",
       "43    1026.9         2828.1                420.6  \n",
       "44     961.6         2961.7                408.7  \n",
       "45     606.2         2918.8                343.9  \n",
       "46     491.8         1686.1                102.9  \n",
       "47     392.1         2035.0                211.1  \n",
       "48     959.7         3149.5                783.9  \n",
       "49     621.2         1794.0                210.0  \n",
       "50     440.8         1992.8                226.6  \n",
       "51     476.3         2533.9                145.1  "
      ]
     },
     "execution_count": 2,
     "metadata": {},
     "output_type": "execute_result"
    }
   ],
   "source": [
    "# I will use pandas to pull the data to create a \n",
    "# data frame for Crimeratesbystate\n",
    "Crimeratesbystate = pd.read_csv('crimeratesbystate-formatted.csv')\n",
    "Crimeratesbystate"
   ]
  },
  {
   "cell_type": "code",
   "execution_count": 3,
   "id": "eed079ac",
   "metadata": {
    "scrolled": true
   },
   "outputs": [
    {
     "data": {
      "text/html": [
       "<div>\n",
       "<style scoped>\n",
       "    .dataframe tbody tr th:only-of-type {\n",
       "        vertical-align: middle;\n",
       "    }\n",
       "\n",
       "    .dataframe tbody tr th {\n",
       "        vertical-align: top;\n",
       "    }\n",
       "\n",
       "    .dataframe thead th {\n",
       "        text-align: right;\n",
       "    }\n",
       "</style>\n",
       "<table border=\"1\" class=\"dataframe\">\n",
       "  <thead>\n",
       "    <tr style=\"text-align: right;\">\n",
       "      <th></th>\n",
       "      <th>state</th>\n",
       "      <th>reading</th>\n",
       "      <th>math</th>\n",
       "      <th>writing</th>\n",
       "      <th>percent_graduates_sat</th>\n",
       "      <th>pupil_staff_ratio</th>\n",
       "      <th>dropout_rate</th>\n",
       "    </tr>\n",
       "  </thead>\n",
       "  <tbody>\n",
       "    <tr>\n",
       "      <th>0</th>\n",
       "      <td>United States</td>\n",
       "      <td>501</td>\n",
       "      <td>515</td>\n",
       "      <td>493</td>\n",
       "      <td>46</td>\n",
       "      <td>7.9</td>\n",
       "      <td>4.4</td>\n",
       "    </tr>\n",
       "    <tr>\n",
       "      <th>1</th>\n",
       "      <td>Alabama</td>\n",
       "      <td>557</td>\n",
       "      <td>552</td>\n",
       "      <td>549</td>\n",
       "      <td>7</td>\n",
       "      <td>6.7</td>\n",
       "      <td>2.3</td>\n",
       "    </tr>\n",
       "    <tr>\n",
       "      <th>2</th>\n",
       "      <td>Alaska</td>\n",
       "      <td>520</td>\n",
       "      <td>516</td>\n",
       "      <td>492</td>\n",
       "      <td>46</td>\n",
       "      <td>7.9</td>\n",
       "      <td>7.3</td>\n",
       "    </tr>\n",
       "    <tr>\n",
       "      <th>3</th>\n",
       "      <td>Arizona</td>\n",
       "      <td>516</td>\n",
       "      <td>521</td>\n",
       "      <td>497</td>\n",
       "      <td>26</td>\n",
       "      <td>10.4</td>\n",
       "      <td>7.6</td>\n",
       "    </tr>\n",
       "    <tr>\n",
       "      <th>4</th>\n",
       "      <td>Arkansas</td>\n",
       "      <td>572</td>\n",
       "      <td>572</td>\n",
       "      <td>556</td>\n",
       "      <td>5</td>\n",
       "      <td>6.8</td>\n",
       "      <td>4.6</td>\n",
       "    </tr>\n",
       "    <tr>\n",
       "      <th>5</th>\n",
       "      <td>California</td>\n",
       "      <td>500</td>\n",
       "      <td>513</td>\n",
       "      <td>498</td>\n",
       "      <td>49</td>\n",
       "      <td>10.9</td>\n",
       "      <td>5.5</td>\n",
       "    </tr>\n",
       "    <tr>\n",
       "      <th>6</th>\n",
       "      <td>Colorado</td>\n",
       "      <td>568</td>\n",
       "      <td>575</td>\n",
       "      <td>555</td>\n",
       "      <td>20</td>\n",
       "      <td>8.1</td>\n",
       "      <td>6.9</td>\n",
       "    </tr>\n",
       "    <tr>\n",
       "      <th>7</th>\n",
       "      <td>Connecticut</td>\n",
       "      <td>509</td>\n",
       "      <td>513</td>\n",
       "      <td>512</td>\n",
       "      <td>83</td>\n",
       "      <td>6.6</td>\n",
       "      <td>2.1</td>\n",
       "    </tr>\n",
       "    <tr>\n",
       "      <th>8</th>\n",
       "      <td>Delaware</td>\n",
       "      <td>495</td>\n",
       "      <td>498</td>\n",
       "      <td>484</td>\n",
       "      <td>71</td>\n",
       "      <td>7.9</td>\n",
       "      <td>5.5</td>\n",
       "    </tr>\n",
       "    <tr>\n",
       "      <th>9</th>\n",
       "      <td>District of Columbia</td>\n",
       "      <td>466</td>\n",
       "      <td>451</td>\n",
       "      <td>461</td>\n",
       "      <td>79</td>\n",
       "      <td>6.3</td>\n",
       "      <td>7.1</td>\n",
       "    </tr>\n",
       "    <tr>\n",
       "      <th>10</th>\n",
       "      <td>Florida</td>\n",
       "      <td>497</td>\n",
       "      <td>498</td>\n",
       "      <td>480</td>\n",
       "      <td>59</td>\n",
       "      <td>8.1</td>\n",
       "      <td>3.8</td>\n",
       "    </tr>\n",
       "    <tr>\n",
       "      <th>11</th>\n",
       "      <td>Georgia</td>\n",
       "      <td>490</td>\n",
       "      <td>491</td>\n",
       "      <td>479</td>\n",
       "      <td>71</td>\n",
       "      <td>7.0</td>\n",
       "      <td>4.6</td>\n",
       "    </tr>\n",
       "    <tr>\n",
       "      <th>12</th>\n",
       "      <td>Hawaii</td>\n",
       "      <td>479</td>\n",
       "      <td>502</td>\n",
       "      <td>469</td>\n",
       "      <td>58</td>\n",
       "      <td>8.3</td>\n",
       "      <td>5.4</td>\n",
       "    </tr>\n",
       "    <tr>\n",
       "      <th>13</th>\n",
       "      <td>Idaho</td>\n",
       "      <td>541</td>\n",
       "      <td>540</td>\n",
       "      <td>520</td>\n",
       "      <td>18</td>\n",
       "      <td>10.0</td>\n",
       "      <td>2.6</td>\n",
       "    </tr>\n",
       "    <tr>\n",
       "      <th>14</th>\n",
       "      <td>Illinois</td>\n",
       "      <td>588</td>\n",
       "      <td>604</td>\n",
       "      <td>583</td>\n",
       "      <td>6</td>\n",
       "      <td>9.9</td>\n",
       "      <td>4.0</td>\n",
       "    </tr>\n",
       "    <tr>\n",
       "      <th>15</th>\n",
       "      <td>Indiana</td>\n",
       "      <td>496</td>\n",
       "      <td>507</td>\n",
       "      <td>480</td>\n",
       "      <td>63</td>\n",
       "      <td>7.5</td>\n",
       "      <td>2.7</td>\n",
       "    </tr>\n",
       "    <tr>\n",
       "      <th>16</th>\n",
       "      <td>Iowa</td>\n",
       "      <td>610</td>\n",
       "      <td>615</td>\n",
       "      <td>588</td>\n",
       "      <td>3</td>\n",
       "      <td>6.8</td>\n",
       "      <td>2.3</td>\n",
       "    </tr>\n",
       "    <tr>\n",
       "      <th>17</th>\n",
       "      <td>Kansas</td>\n",
       "      <td>581</td>\n",
       "      <td>589</td>\n",
       "      <td>564</td>\n",
       "      <td>7</td>\n",
       "      <td>8.6</td>\n",
       "      <td>2.7</td>\n",
       "    </tr>\n",
       "    <tr>\n",
       "      <th>18</th>\n",
       "      <td>Kentucky</td>\n",
       "      <td>573</td>\n",
       "      <td>573</td>\n",
       "      <td>561</td>\n",
       "      <td>7</td>\n",
       "      <td>6.6</td>\n",
       "      <td>3.0</td>\n",
       "    </tr>\n",
       "    <tr>\n",
       "      <th>19</th>\n",
       "      <td>Louisiana</td>\n",
       "      <td>563</td>\n",
       "      <td>558</td>\n",
       "      <td>555</td>\n",
       "      <td>7</td>\n",
       "      <td>6.8</td>\n",
       "      <td>7.4</td>\n",
       "    </tr>\n",
       "    <tr>\n",
       "      <th>20</th>\n",
       "      <td>Maine</td>\n",
       "      <td>468</td>\n",
       "      <td>467</td>\n",
       "      <td>455</td>\n",
       "      <td>90</td>\n",
       "      <td>4.9</td>\n",
       "      <td>5.3</td>\n",
       "    </tr>\n",
       "    <tr>\n",
       "      <th>21</th>\n",
       "      <td>Maryland</td>\n",
       "      <td>500</td>\n",
       "      <td>502</td>\n",
       "      <td>495</td>\n",
       "      <td>69</td>\n",
       "      <td>7.2</td>\n",
       "      <td>3.8</td>\n",
       "    </tr>\n",
       "    <tr>\n",
       "      <th>22</th>\n",
       "      <td>Massachusetts</td>\n",
       "      <td>514</td>\n",
       "      <td>526</td>\n",
       "      <td>510</td>\n",
       "      <td>84</td>\n",
       "      <td>7.8</td>\n",
       "      <td>3.8</td>\n",
       "    </tr>\n",
       "    <tr>\n",
       "      <th>23</th>\n",
       "      <td>Michigan</td>\n",
       "      <td>584</td>\n",
       "      <td>603</td>\n",
       "      <td>575</td>\n",
       "      <td>5</td>\n",
       "      <td>8.1</td>\n",
       "      <td>7.4</td>\n",
       "    </tr>\n",
       "    <tr>\n",
       "      <th>24</th>\n",
       "      <td>Minnesota</td>\n",
       "      <td>595</td>\n",
       "      <td>609</td>\n",
       "      <td>578</td>\n",
       "      <td>7</td>\n",
       "      <td>7.7</td>\n",
       "      <td>3.0</td>\n",
       "    </tr>\n",
       "    <tr>\n",
       "      <th>25</th>\n",
       "      <td>Mississippi</td>\n",
       "      <td>567</td>\n",
       "      <td>554</td>\n",
       "      <td>559</td>\n",
       "      <td>4</td>\n",
       "      <td>6.9</td>\n",
       "      <td>4.3</td>\n",
       "    </tr>\n",
       "    <tr>\n",
       "      <th>26</th>\n",
       "      <td>Missouri</td>\n",
       "      <td>595</td>\n",
       "      <td>600</td>\n",
       "      <td>584</td>\n",
       "      <td>5</td>\n",
       "      <td>6.9</td>\n",
       "      <td>3.7</td>\n",
       "    </tr>\n",
       "    <tr>\n",
       "      <th>27</th>\n",
       "      <td>Montana</td>\n",
       "      <td>541</td>\n",
       "      <td>542</td>\n",
       "      <td>519</td>\n",
       "      <td>22</td>\n",
       "      <td>7.4</td>\n",
       "      <td>3.7</td>\n",
       "    </tr>\n",
       "    <tr>\n",
       "      <th>28</th>\n",
       "      <td>Nebraska</td>\n",
       "      <td>587</td>\n",
       "      <td>594</td>\n",
       "      <td>572</td>\n",
       "      <td>4</td>\n",
       "      <td>6.7</td>\n",
       "      <td>2.8</td>\n",
       "    </tr>\n",
       "    <tr>\n",
       "      <th>29</th>\n",
       "      <td>Nevada</td>\n",
       "      <td>501</td>\n",
       "      <td>505</td>\n",
       "      <td>479</td>\n",
       "      <td>42</td>\n",
       "      <td>12.1</td>\n",
       "      <td>4.5</td>\n",
       "    </tr>\n",
       "    <tr>\n",
       "      <th>30</th>\n",
       "      <td>New Hampshire</td>\n",
       "      <td>523</td>\n",
       "      <td>523</td>\n",
       "      <td>510</td>\n",
       "      <td>75</td>\n",
       "      <td>6.2</td>\n",
       "      <td>3.2</td>\n",
       "    </tr>\n",
       "    <tr>\n",
       "      <th>31</th>\n",
       "      <td>New Jersey</td>\n",
       "      <td>496</td>\n",
       "      <td>513</td>\n",
       "      <td>496</td>\n",
       "      <td>76</td>\n",
       "      <td>6.9</td>\n",
       "      <td>2.0</td>\n",
       "    </tr>\n",
       "    <tr>\n",
       "      <th>32</th>\n",
       "      <td>New Mexico</td>\n",
       "      <td>553</td>\n",
       "      <td>546</td>\n",
       "      <td>534</td>\n",
       "      <td>11</td>\n",
       "      <td>7.0</td>\n",
       "      <td>6.1</td>\n",
       "    </tr>\n",
       "    <tr>\n",
       "      <th>33</th>\n",
       "      <td>New York</td>\n",
       "      <td>485</td>\n",
       "      <td>502</td>\n",
       "      <td>478</td>\n",
       "      <td>85</td>\n",
       "      <td>7.4</td>\n",
       "      <td>5.3</td>\n",
       "    </tr>\n",
       "    <tr>\n",
       "      <th>34</th>\n",
       "      <td>North Carolina</td>\n",
       "      <td>495</td>\n",
       "      <td>511</td>\n",
       "      <td>480</td>\n",
       "      <td>63</td>\n",
       "      <td>7.3</td>\n",
       "      <td>5.7</td>\n",
       "    </tr>\n",
       "    <tr>\n",
       "      <th>35</th>\n",
       "      <td>North Dakota</td>\n",
       "      <td>590</td>\n",
       "      <td>593</td>\n",
       "      <td>566</td>\n",
       "      <td>3</td>\n",
       "      <td>6.2</td>\n",
       "      <td>2.3</td>\n",
       "    </tr>\n",
       "    <tr>\n",
       "      <th>36</th>\n",
       "      <td>Ohio</td>\n",
       "      <td>537</td>\n",
       "      <td>546</td>\n",
       "      <td>523</td>\n",
       "      <td>22</td>\n",
       "      <td>7.5</td>\n",
       "      <td>4.5</td>\n",
       "    </tr>\n",
       "    <tr>\n",
       "      <th>37</th>\n",
       "      <td>Oklahoma</td>\n",
       "      <td>575</td>\n",
       "      <td>571</td>\n",
       "      <td>557</td>\n",
       "      <td>5</td>\n",
       "      <td>7.4</td>\n",
       "      <td>3.5</td>\n",
       "    </tr>\n",
       "    <tr>\n",
       "      <th>38</th>\n",
       "      <td>Oregon</td>\n",
       "      <td>523</td>\n",
       "      <td>525</td>\n",
       "      <td>499</td>\n",
       "      <td>52</td>\n",
       "      <td>8.8</td>\n",
       "      <td>4.6</td>\n",
       "    </tr>\n",
       "    <tr>\n",
       "      <th>39</th>\n",
       "      <td>Pennsylvania</td>\n",
       "      <td>493</td>\n",
       "      <td>501</td>\n",
       "      <td>483</td>\n",
       "      <td>71</td>\n",
       "      <td>7.1</td>\n",
       "      <td>-1.0</td>\n",
       "    </tr>\n",
       "    <tr>\n",
       "      <th>40</th>\n",
       "      <td>Rhode Island</td>\n",
       "      <td>498</td>\n",
       "      <td>496</td>\n",
       "      <td>494</td>\n",
       "      <td>66</td>\n",
       "      <td>8.4</td>\n",
       "      <td>5.8</td>\n",
       "    </tr>\n",
       "    <tr>\n",
       "      <th>41</th>\n",
       "      <td>South Carolina</td>\n",
       "      <td>486</td>\n",
       "      <td>496</td>\n",
       "      <td>470</td>\n",
       "      <td>67</td>\n",
       "      <td>10.8</td>\n",
       "      <td>3.9</td>\n",
       "    </tr>\n",
       "    <tr>\n",
       "      <th>42</th>\n",
       "      <td>South Dakota</td>\n",
       "      <td>589</td>\n",
       "      <td>600</td>\n",
       "      <td>569</td>\n",
       "      <td>3</td>\n",
       "      <td>7.1</td>\n",
       "      <td>3.9</td>\n",
       "    </tr>\n",
       "    <tr>\n",
       "      <th>43</th>\n",
       "      <td>Tennessee</td>\n",
       "      <td>571</td>\n",
       "      <td>565</td>\n",
       "      <td>565</td>\n",
       "      <td>10</td>\n",
       "      <td>7.6</td>\n",
       "      <td>3.1</td>\n",
       "    </tr>\n",
       "    <tr>\n",
       "      <th>44</th>\n",
       "      <td>Texas</td>\n",
       "      <td>486</td>\n",
       "      <td>506</td>\n",
       "      <td>475</td>\n",
       "      <td>51</td>\n",
       "      <td>7.4</td>\n",
       "      <td>4.0</td>\n",
       "    </tr>\n",
       "    <tr>\n",
       "      <th>45</th>\n",
       "      <td>Utah</td>\n",
       "      <td>559</td>\n",
       "      <td>558</td>\n",
       "      <td>540</td>\n",
       "      <td>6</td>\n",
       "      <td>11.9</td>\n",
       "      <td>3.1</td>\n",
       "    </tr>\n",
       "    <tr>\n",
       "      <th>46</th>\n",
       "      <td>Vermont</td>\n",
       "      <td>518</td>\n",
       "      <td>518</td>\n",
       "      <td>506</td>\n",
       "      <td>64</td>\n",
       "      <td>4.9</td>\n",
       "      <td>-1.0</td>\n",
       "    </tr>\n",
       "    <tr>\n",
       "      <th>47</th>\n",
       "      <td>Virginia</td>\n",
       "      <td>511</td>\n",
       "      <td>512</td>\n",
       "      <td>498</td>\n",
       "      <td>68</td>\n",
       "      <td>6.0</td>\n",
       "      <td>2.6</td>\n",
       "    </tr>\n",
       "    <tr>\n",
       "      <th>48</th>\n",
       "      <td>Washington</td>\n",
       "      <td>524</td>\n",
       "      <td>531</td>\n",
       "      <td>507</td>\n",
       "      <td>53</td>\n",
       "      <td>9.9</td>\n",
       "      <td>5.1</td>\n",
       "    </tr>\n",
       "    <tr>\n",
       "      <th>49</th>\n",
       "      <td>West Virginia</td>\n",
       "      <td>511</td>\n",
       "      <td>501</td>\n",
       "      <td>499</td>\n",
       "      <td>18</td>\n",
       "      <td>7.4</td>\n",
       "      <td>4.0</td>\n",
       "    </tr>\n",
       "    <tr>\n",
       "      <th>50</th>\n",
       "      <td>Wisconsin</td>\n",
       "      <td>594</td>\n",
       "      <td>608</td>\n",
       "      <td>582</td>\n",
       "      <td>5</td>\n",
       "      <td>8.3</td>\n",
       "      <td>2.2</td>\n",
       "    </tr>\n",
       "    <tr>\n",
       "      <th>51</th>\n",
       "      <td>Wyoming</td>\n",
       "      <td>567</td>\n",
       "      <td>568</td>\n",
       "      <td>550</td>\n",
       "      <td>5</td>\n",
       "      <td>5.6</td>\n",
       "      <td>5.1</td>\n",
       "    </tr>\n",
       "  </tbody>\n",
       "</table>\n",
       "</div>"
      ],
      "text/plain": [
       "                   state  reading  math  writing  percent_graduates_sat  \\\n",
       "0          United States      501   515      493                     46   \n",
       "1                Alabama      557   552      549                      7   \n",
       "2                 Alaska      520   516      492                     46   \n",
       "3                Arizona      516   521      497                     26   \n",
       "4               Arkansas      572   572      556                      5   \n",
       "5             California      500   513      498                     49   \n",
       "6               Colorado      568   575      555                     20   \n",
       "7            Connecticut      509   513      512                     83   \n",
       "8               Delaware      495   498      484                     71   \n",
       "9   District of Columbia      466   451      461                     79   \n",
       "10               Florida      497   498      480                     59   \n",
       "11               Georgia      490   491      479                     71   \n",
       "12                Hawaii      479   502      469                     58   \n",
       "13                 Idaho      541   540      520                     18   \n",
       "14              Illinois      588   604      583                      6   \n",
       "15               Indiana      496   507      480                     63   \n",
       "16                  Iowa      610   615      588                      3   \n",
       "17                Kansas      581   589      564                      7   \n",
       "18              Kentucky      573   573      561                      7   \n",
       "19             Louisiana      563   558      555                      7   \n",
       "20                 Maine      468   467      455                     90   \n",
       "21              Maryland      500   502      495                     69   \n",
       "22         Massachusetts      514   526      510                     84   \n",
       "23              Michigan      584   603      575                      5   \n",
       "24             Minnesota      595   609      578                      7   \n",
       "25           Mississippi      567   554      559                      4   \n",
       "26              Missouri      595   600      584                      5   \n",
       "27               Montana      541   542      519                     22   \n",
       "28              Nebraska      587   594      572                      4   \n",
       "29                Nevada      501   505      479                     42   \n",
       "30         New Hampshire      523   523      510                     75   \n",
       "31            New Jersey      496   513      496                     76   \n",
       "32            New Mexico      553   546      534                     11   \n",
       "33              New York      485   502      478                     85   \n",
       "34        North Carolina      495   511      480                     63   \n",
       "35          North Dakota      590   593      566                      3   \n",
       "36                  Ohio      537   546      523                     22   \n",
       "37              Oklahoma      575   571      557                      5   \n",
       "38                Oregon      523   525      499                     52   \n",
       "39          Pennsylvania      493   501      483                     71   \n",
       "40          Rhode Island      498   496      494                     66   \n",
       "41        South Carolina      486   496      470                     67   \n",
       "42          South Dakota      589   600      569                      3   \n",
       "43             Tennessee      571   565      565                     10   \n",
       "44                 Texas      486   506      475                     51   \n",
       "45                  Utah      559   558      540                      6   \n",
       "46               Vermont      518   518      506                     64   \n",
       "47              Virginia      511   512      498                     68   \n",
       "48            Washington      524   531      507                     53   \n",
       "49         West Virginia      511   501      499                     18   \n",
       "50             Wisconsin      594   608      582                      5   \n",
       "51               Wyoming      567   568      550                      5   \n",
       "\n",
       "    pupil_staff_ratio  dropout_rate  \n",
       "0                 7.9           4.4  \n",
       "1                 6.7           2.3  \n",
       "2                 7.9           7.3  \n",
       "3                10.4           7.6  \n",
       "4                 6.8           4.6  \n",
       "5                10.9           5.5  \n",
       "6                 8.1           6.9  \n",
       "7                 6.6           2.1  \n",
       "8                 7.9           5.5  \n",
       "9                 6.3           7.1  \n",
       "10                8.1           3.8  \n",
       "11                7.0           4.6  \n",
       "12                8.3           5.4  \n",
       "13               10.0           2.6  \n",
       "14                9.9           4.0  \n",
       "15                7.5           2.7  \n",
       "16                6.8           2.3  \n",
       "17                8.6           2.7  \n",
       "18                6.6           3.0  \n",
       "19                6.8           7.4  \n",
       "20                4.9           5.3  \n",
       "21                7.2           3.8  \n",
       "22                7.8           3.8  \n",
       "23                8.1           7.4  \n",
       "24                7.7           3.0  \n",
       "25                6.9           4.3  \n",
       "26                6.9           3.7  \n",
       "27                7.4           3.7  \n",
       "28                6.7           2.8  \n",
       "29               12.1           4.5  \n",
       "30                6.2           3.2  \n",
       "31                6.9           2.0  \n",
       "32                7.0           6.1  \n",
       "33                7.4           5.3  \n",
       "34                7.3           5.7  \n",
       "35                6.2           2.3  \n",
       "36                7.5           4.5  \n",
       "37                7.4           3.5  \n",
       "38                8.8           4.6  \n",
       "39                7.1          -1.0  \n",
       "40                8.4           5.8  \n",
       "41               10.8           3.9  \n",
       "42                7.1           3.9  \n",
       "43                7.6           3.1  \n",
       "44                7.4           4.0  \n",
       "45               11.9           3.1  \n",
       "46                4.9          -1.0  \n",
       "47                6.0           2.6  \n",
       "48                9.9           5.1  \n",
       "49                7.4           4.0  \n",
       "50                8.3           2.2  \n",
       "51                5.6           5.1  "
      ]
     },
     "execution_count": 3,
     "metadata": {},
     "output_type": "execute_result"
    }
   ],
   "source": [
    "# I will use pandas to pull the data to create a \n",
    "# data frame for education\n",
    "education = pd.read_csv('education.csv')\n",
    "education"
   ]
  },
  {
   "cell_type": "markdown",
   "id": "2df4d7d2",
   "metadata": {},
   "source": [
    "## Histogram"
   ]
  },
  {
   "cell_type": "code",
   "execution_count": 16,
   "id": "47248609",
   "metadata": {},
   "outputs": [
    {
     "data": {
      "image/png": "[encoded data removed]",
      "text/plain": [
       "<Figure size 1080x504 with 4 Axes>"
      ]
     },
     "metadata": {
      "needs_background": "light"
     },
     "output_type": "display_data"
    }
   ],
   "source": [
    "# Create a histogram using hist for my reading, math, writing columns\n",
    "\n",
    "education.hist(column=['reading','math','writing'], grid=True, \n",
    "               figsize=(15, 7),legend=True,bins=10,color=['#A0E8AF']);"
   ]
  },
  {
   "cell_type": "code",
   "execution_count": null,
   "id": "f97ffcc4",
   "metadata": {},
   "outputs": [],
   "source": [
    "df.hist(column='reading','math', 'writing', grid=True,\n",
    "        figsize=(10, 4),\n",
    "        legend=True,\n",
    "        bins=25,\n",
    "        orientation='horizontal',\n",
    "        color=['#FFCF56', '#A0E8AF']);\n",
    "\n",
    "\n",
    "df.plot(kind='hist',\n",
    "        alpha=0.7,\n",
    "        bins=30,\n",
    "        title='Histogram Of Test Scores',\n",
    "        rot=45,\n",
    "        grid=True,\n",
    "        figsize=(12,8),\n",
    "        fontsize=15, \n",
    "        color=['#A0E8AF', '#FFCF56'])\n",
    "plt.xlabel('Test Score')\n",
    "plt.ylabel(\"Number Of Students\");"
   ]
  },
  {
   "cell_type": "markdown",
   "id": "59ceb44e",
   "metadata": {},
   "source": [
    "## Box Plot"
   ]
  },
  {
   "cell_type": "code",
   "execution_count": 17,
   "id": "751bf803",
   "metadata": {},
   "outputs": [
    {
     "data": {
      "text/plain": [
       "<AxesSubplot:xlabel='pupil_staff_ratio', ylabel='dropout_rate'>"
      ]
     },
     "execution_count": 17,
     "metadata": {},
     "output_type": "execute_result"
    },
    {
     "data": {
      "image/png": "[encoded data removed]",
      "text/plain": [
       "<Figure size 432x288 with 1 Axes>"
      ]
     },
     "metadata": {},
     "output_type": "display_data"
    }
   ],
   "source": [
    "# I'll use seaborn to create a boxplot that shows the \n",
    "# dropout_rate by the pupil_staff_ratio \n",
    "sns.set_style(\"whitegrid\")\n",
    "sns.boxplot(x = 'pupil_staff_ratio', y = 'dropout_rate', data = education)"
   ]
  },
  {
   "cell_type": "markdown",
   "id": "bd699529",
   "metadata": {},
   "source": [
    "## Bullet Chart"
   ]
  },
  {
   "cell_type": "code",
   "execution_count": 68,
   "id": "1e1a3d9a",
   "metadata": {},
   "outputs": [
    {
     "data": {
      "application/vnd.plotly.v1+json": {
       "config": {
        "plotlyServerURL": "https://plot.ly"
       },
       "data": [
        {
         "delta": {
          "reference": 35.4
         },
         "domain": {
          "x": [
           0,
           1
          ],
          "y": [
           0,
           1
          ]
         },
         "gauge": {
          "shape": "bullet"
         },
         "mode": "number+gauge+delta",
         "title": {
          "text": "Murder"
         },
         "type": "indicator",
         "value": 5
        }
       ],
       "layout": {
        "height": 260,
        "template": {
         "data": {
          "bar": [
           {
            "error_x": {
             "color": "#2a3f5f"
            },
            "error_y": {
             "color": "#2a3f5f"
            },
            "marker": {
             "line": {
              "color": "#E5ECF6",
              "width": 0.5
             },
             "pattern": {
              "fillmode": "overlay",
              "size": 10,
              "solidity": 0.2
             }
            },
            "type": "bar"
           }
          ],
          "barpolar": [
           {
            "marker": {
             "line": {
              "color": "#E5ECF6",
              "width": 0.5
             },
             "pattern": {
              "fillmode": "overlay",
              "size": 10,
              "solidity": 0.2
             }
            },
            "type": "barpolar"
           }
          ],
          "carpet": [
           {
            "aaxis": {
             "endlinecolor": "#2a3f5f",
             "gridcolor": "white",
             "linecolor": "white",
             "minorgridcolor": "white",
             "startlinecolor": "#2a3f5f"
            },
            "baxis": {
             "endlinecolor": "#2a3f5f",
             "gridcolor": "white",
             "linecolor": "white",
             "minorgridcolor": "white",
             "startlinecolor": "#2a3f5f"
            },
            "type": "carpet"
           }
          ],
          "choropleth": [
           {
            "colorbar": {
             "outlinewidth": 0,
             "ticks": ""
            },
            "type": "choropleth"
           }
          ],
          "contour": [
           {
            "colorbar": {
             "outlinewidth": 0,
             "ticks": ""
            },
            "colorscale": [
             [
              0,
              "#0d0887"
             ],
             [
              0.1111111111111111,
              "#46039f"
             ],
             [
              0.2222222222222222,
              "#7201a8"
             ],
             [
              0.3333333333333333,
              "#9c179e"
             ],
             [
              0.4444444444444444,
              "#bd3786"
             ],
             [
              0.5555555555555556,
              "#d8576b"
             ],
             [
              0.6666666666666666,
              "#ed7953"
             ],
             [
              0.7777777777777778,
              "#fb9f3a"
             ],
             [
              0.8888888888888888,
              "#fdca26"
             ],
             [
              1,
              "#f0f921"
             ]
            ],
            "type": "contour"
           }
          ],
          "contourcarpet": [
           {
            "colorbar": {
             "outlinewidth": 0,
             "ticks": ""
            },
            "type": "contourcarpet"
           }
          ],
          "heatmap": [
           {
            "colorbar": {
             "outlinewidth": 0,
             "ticks": ""
            },
            "colorscale": [
             [
              0,
              "#0d0887"
             ],
             [
              0.1111111111111111,
              "#46039f"
             ],
             [
              0.2222222222222222,
              "#7201a8"
             ],
             [
              0.3333333333333333,
              "#9c179e"
             ],
             [
              0.4444444444444444,
              "#bd3786"
             ],
             [
              0.5555555555555556,
              "#d8576b"
             ],
             [
              0.6666666666666666,
              "#ed7953"
             ],
             [
              0.7777777777777778,
              "#fb9f3a"
             ],
             [
              0.8888888888888888,
              "#fdca26"
             ],
             [
              1,
              "#f0f921"
             ]
            ],
            "type": "heatmap"
           }
          ],
          "heatmapgl": [
           {
            "colorbar": {
             "outlinewidth": 0,
             "ticks": ""
            },
            "colorscale": [
             [
              0,
              "#0d0887"
             ],
             [
              0.1111111111111111,
              "#46039f"
             ],
             [
              0.2222222222222222,
              "#7201a8"
             ],
             [
              0.3333333333333333,
              "#9c179e"
             ],
             [
              0.4444444444444444,
              "#bd3786"
             ],
             [
              0.5555555555555556,
              "#d8576b"
             ],
             [
              0.6666666666666666,
              "#ed7953"
             ],
             [
              0.7777777777777778,
              "#fb9f3a"
             ],
             [
              0.8888888888888888,
              "#fdca26"
             ],
             [
              1,
              "#f0f921"
             ]
            ],
            "type": "heatmapgl"
           }
          ],
          "histogram": [
           {
            "marker": {
             "pattern": {
              "fillmode": "overlay",
              "size": 10,
              "solidity": 0.2
             }
            },
            "type": "histogram"
           }
          ],
          "histogram2d": [
           {
            "colorbar": {
             "outlinewidth": 0,
             "ticks": ""
            },
            "colorscale": [
             [
              0,
              "#0d0887"
             ],
             [
              0.1111111111111111,
              "#46039f"
             ],
             [
              0.2222222222222222,
              "#7201a8"
             ],
             [
              0.3333333333333333,
              "#9c179e"
             ],
             [
              0.4444444444444444,
              "#bd3786"
             ],
             [
              0.5555555555555556,
              "#d8576b"
             ],
             [
              0.6666666666666666,
              "#ed7953"
             ],
             [
              0.7777777777777778,
              "#fb9f3a"
             ],
             [
              0.8888888888888888,
              "#fdca26"
             ],
             [
              1,
              "#f0f921"
             ]
            ],
            "type": "histogram2d"
           }
          ],
          "histogram2dcontour": [
           {
            "colorbar": {
             "outlinewidth": 0,
             "ticks": ""
            },
            "colorscale": [
             [
              0,
              "#0d0887"
             ],
             [
              0.1111111111111111,
              "#46039f"
             ],
             [
              0.2222222222222222,
              "#7201a8"
             ],
             [
              0.3333333333333333,
              "#9c179e"
             ],
             [
              0.4444444444444444,
              "#bd3786"
             ],
             [
              0.5555555555555556,
              "#d8576b"
             ],
             [
              0.6666666666666666,
              "#ed7953"
             ],
             [
              0.7777777777777778,
              "#fb9f3a"
             ],
             [
              0.8888888888888888,
              "#fdca26"
             ],
             [
              1,
              "#f0f921"
             ]
            ],
            "type": "histogram2dcontour"
           }
          ],
          "mesh3d": [
           {
            "colorbar": {
             "outlinewidth": 0,
             "ticks": ""
            },
            "type": "mesh3d"
           }
          ],
          "parcoords": [
           {
            "line": {
             "colorbar": {
              "outlinewidth": 0,
              "ticks": ""
             }
            },
            "type": "parcoords"
           }
          ],
          "pie": [
           {
            "automargin": true,
            "type": "pie"
           }
          ],
          "scatter": [
           {
            "fillpattern": {
             "fillmode": "overlay",
             "size": 10,
             "solidity": 0.2
            },
            "type": "scatter"
           }
          ],
          "scatter3d": [
           {
            "line": {
             "colorbar": {
              "outlinewidth": 0,
              "ticks": ""
             }
            },
            "marker": {
             "colorbar": {
              "outlinewidth": 0,
              "ticks": ""
             }
            },
            "type": "scatter3d"
           }
          ],
          "scattercarpet": [
           {
            "marker": {
             "colorbar": {
              "outlinewidth": 0,
              "ticks": ""
             }
            },
            "type": "scattercarpet"
           }
          ],
          "scattergeo": [
           {
            "marker": {
             "colorbar": {
              "outlinewidth": 0,
              "ticks": ""
             }
            },
            "type": "scattergeo"
           }
          ],
          "scattergl": [
           {
            "marker": {
             "colorbar": {
              "outlinewidth": 0,
              "ticks": ""
             }
            },
            "type": "scattergl"
           }
          ],
          "scattermapbox": [
           {
            "marker": {
             "colorbar": {
              "outlinewidth": 0,
              "ticks": ""
             }
            },
            "type": "scattermapbox"
           }
          ],
          "scatterpolar": [
           {
            "marker": {
             "colorbar": {
              "outlinewidth": 0,
              "ticks": ""
             }
            },
            "type": "scatterpolar"
           }
          ],
          "scatterpolargl": [
           {
            "marker": {
             "colorbar": {
              "outlinewidth": 0,
              "ticks": ""
             }
            },
            "type": "scatterpolargl"
           }
          ],
          "scatterternary": [
           {
            "marker": {
             "colorbar": {
              "outlinewidth": 0,
              "ticks": ""
             }
            },
            "type": "scatterternary"
           }
          ],
          "surface": [
           {
            "colorbar": {
             "outlinewidth": 0,
             "ticks": ""
            },
            "colorscale": [
             [
              0,
              "#0d0887"
             ],
             [
              0.1111111111111111,
              "#46039f"
             ],
             [
              0.2222222222222222,
              "#7201a8"
             ],
             [
              0.3333333333333333,
              "#9c179e"
             ],
             [
              0.4444444444444444,
              "#bd3786"
             ],
             [
              0.5555555555555556,
              "#d8576b"
             ],
             [
              0.6666666666666666,
              "#ed7953"
             ],
             [
              0.7777777777777778,
              "#fb9f3a"
             ],
             [
              0.8888888888888888,
              "#fdca26"
             ],
             [
              1,
              "#f0f921"
             ]
            ],
            "type": "surface"
           }
          ],
          "table": [
           {
            "cells": {
             "fill": {
              "color": "#EBF0F8"
             },
             "line": {
              "color": "white"
             }
            },
            "header": {
             "fill": {
              "color": "#C8D4E3"
             },
             "line": {
              "color": "white"
             }
            },
            "type": "table"
           }
          ]
         },
         "layout": {
          "annotationdefaults": {
           "arrowcolor": "#2a3f5f",
           "arrowhead": 0,
           "arrowwidth": 1
          },
          "autotypenumbers": "strict",
          "coloraxis": {
           "colorbar": {
            "outlinewidth": 0,
            "ticks": ""
           }
          },
          "colorscale": {
           "diverging": [
            [
             0,
             "#8e0152"
            ],
            [
             0.1,
             "#c51b7d"
            ],
            [
             0.2,
             "#de77ae"
            ],
            [
             0.3,
             "#f1b6da"
            ],
            [
             0.4,
             "#fde0ef"
            ],
            [
             0.5,
             "#f7f7f7"
            ],
            [
             0.6,
             "#e6f5d0"
            ],
            [
             0.7,
             "#b8e186"
            ],
            [
             0.8,
             "#7fbc41"
            ],
            [
             0.9,
             "#4d9221"
            ],
            [
             1,
             "#276419"
            ]
           ],
           "sequential": [
            [
             0,
             "#0d0887"
            ],
            [
             0.1111111111111111,
             "#46039f"
            ],
            [
             0.2222222222222222,
             "#7201a8"
            ],
            [
             0.3333333333333333,
             "#9c179e"
            ],
            [
             0.4444444444444444,
             "#bd3786"
            ],
            [
             0.5555555555555556,
             "#d8576b"
            ],
            [
             0.6666666666666666,
             "#ed7953"
            ],
            [
             0.7777777777777778,
             "#fb9f3a"
            ],
            [
             0.8888888888888888,
             "#fdca26"
            ],
            [
             1,
             "#f0f921"
            ]
           ],
           "sequentialminus": [
            [
             0,
             "#0d0887"
            ],
            [
             0.1111111111111111,
             "#46039f"
            ],
            [
             0.2222222222222222,
             "#7201a8"
            ],
            [
             0.3333333333333333,
             "#9c179e"
            ],
            [
             0.4444444444444444,
             "#bd3786"
            ],
            [
             0.5555555555555556,
             "#d8576b"
            ],
            [
             0.6666666666666666,
             "#ed7953"
            ],
            [
             0.7777777777777778,
             "#fb9f3a"
            ],
            [
             0.8888888888888888,
             "#fdca26"
            ],
            [
             1,
             "#f0f921"
            ]
           ]
          },
          "colorway": [
           "#636efa",
           "#EF553B",
           "#00cc96",
           "#ab63fa",
           "#FFA15A",
           "#19d3f3",
           "#FF6692",
           "#B6E880",
           "#FF97FF",
           "#FECB52"
          ],
          "font": {
           "color": "#2a3f5f"
          },
          "geo": {
           "bgcolor": "white",
           "lakecolor": "white",
           "landcolor": "#E5ECF6",
           "showlakes": true,
           "showland": true,
           "subunitcolor": "white"
          },
          "hoverlabel": {
           "align": "left"
          },
          "hovermode": "closest",
          "mapbox": {
           "style": "light"
          },
          "paper_bgcolor": "white",
          "plot_bgcolor": "#E5ECF6",
          "polar": {
           "angularaxis": {
            "gridcolor": "white",
            "linecolor": "white",
            "ticks": ""
           },
           "bgcolor": "#E5ECF6",
           "radialaxis": {
            "gridcolor": "white",
            "linecolor": "white",
            "ticks": ""
           }
          },
          "scene": {
           "xaxis": {
            "backgroundcolor": "#E5ECF6",
            "gridcolor": "white",
            "gridwidth": 2,
            "linecolor": "white",
            "showbackground": true,
            "ticks": "",
            "zerolinecolor": "white"
           },
           "yaxis": {
            "backgroundcolor": "#E5ECF6",
            "gridcolor": "white",
            "gridwidth": 2,
            "linecolor": "white",
            "showbackground": true,
            "ticks": "",
            "zerolinecolor": "white"
           },
           "zaxis": {
            "backgroundcolor": "#E5ECF6",
            "gridcolor": "white",
            "gridwidth": 2,
            "linecolor": "white",
            "showbackground": true,
            "ticks": "",
            "zerolinecolor": "white"
           }
          },
          "shapedefaults": {
           "line": {
            "color": "#2a3f5f"
           }
          },
          "ternary": {
           "aaxis": {
            "gridcolor": "white",
            "linecolor": "white",
            "ticks": ""
           },
           "baxis": {
            "gridcolor": "white",
            "linecolor": "white",
            "ticks": ""
           },
           "bgcolor": "#E5ECF6",
           "caxis": {
            "gridcolor": "white",
            "linecolor": "white",
            "ticks": ""
           }
          },
          "title": {
           "x": 0.05
          },
          "xaxis": {
           "automargin": true,
           "gridcolor": "white",
           "linecolor": "white",
           "ticks": "",
           "title": {
            "standoff": 15
           },
           "zerolinecolor": "white",
           "zerolinewidth": 2
          },
          "yaxis": {
           "automargin": true,
           "gridcolor": "white",
           "linecolor": "white",
           "ticks": "",
           "title": {
            "standoff": 15
           },
           "zerolinecolor": "white",
           "zerolinewidth": 2
          }
         }
        }
       }
      },
      "text/html": [
       "<div>                            <div id=\"40db4404-2a6d-48d3-b567-dd31c5ee23a6\" class=\"plotly-graph-div\" style=\"height:260px; width:100%;\"></div>            <script type=\"text/javascript\">                require([\"plotly\"], function(Plotly) {                    window.PLOTLYENV=window.PLOTLYENV || {};                                    if (document.getElementById(\"40db4404-2a6d-48d3-b567-dd31c5ee23a6\")) {                    Plotly.newPlot(                        \"40db4404-2a6d-48d3-b567-dd31c5ee23a6\",                        [{\"delta\":{\"reference\":35.4},\"domain\":{\"x\":[0,1],\"y\":[0,1]},\"gauge\":{\"shape\":\"bullet\"},\"mode\":\"number+gauge+delta\",\"title\":{\"text\":\"Murder\"},\"value\":5,\"type\":\"indicator\"}],                        {\"template\":{\"data\":{\"histogram2dcontour\":[{\"type\":\"histogram2dcontour\",\"colorbar\":{\"outlinewidth\":0,\"ticks\":\"\"},\"colorscale\":[[0.0,\"#0d0887\"],[0.1111111111111111,\"#46039f\"],[0.2222222222222222,\"#7201a8\"],[0.3333333333333333,\"#9c179e\"],[0.4444444444444444,\"#bd3786\"],[0.5555555555555556,\"#d8576b\"],[0.6666666666666666,\"#ed7953\"],[0.7777777777777778,\"#fb9f3a\"],[0.8888888888888888,\"#fdca26\"],[1.0,\"#f0f921\"]]}],\"choropleth\":[{\"type\":\"choropleth\",\"colorbar\":{\"outlinewidth\":0,\"ticks\":\"\"}}],\"histogram2d\":[{\"type\":\"histogram2d\",\"colorbar\":{\"outlinewidth\":0,\"ticks\":\"\"},\"colorscale\":[[0.0,\"#0d0887\"],[0.1111111111111111,\"#46039f\"],[0.2222222222222222,\"#7201a8\"],[0.3333333333333333,\"#9c179e\"],[0.4444444444444444,\"#bd3786\"],[0.5555555555555556,\"#d8576b\"],[0.6666666666666666,\"#ed7953\"],[0.7777777777777778,\"#fb9f3a\"],[0.8888888888888888,\"#fdca26\"],[1.0,\"#f0f921\"]]}],\"heatmap\":[{\"type\":\"heatmap\",\"colorbar\":{\"outlinewidth\":0,\"ticks\":\"\"},\"colorscale\":[[0.0,\"#0d0887\"],[0.1111111111111111,\"#46039f\"],[0.2222222222222222,\"#7201a8\"],[0.3333333333333333,\"#9c179e\"],[0.4444444444444444,\"#bd3786\"],[0.5555555555555556,\"#d8576b\"],[0.6666666666666666,\"#ed7953\"],[0.7777777777777778,\"#fb9f3a\"],[0.8888888888888888,\"#fdca26\"],[1.0,\"#f0f921\"]]}],\"heatmapgl\":[{\"type\":\"heatmapgl\",\"colorbar\":{\"outlinewidth\":0,\"ticks\":\"\"},\"colorscale\":[[0.0,\"#0d0887\"],[0.1111111111111111,\"#46039f\"],[0.2222222222222222,\"#7201a8\"],[0.3333333333333333,\"#9c179e\"],[0.4444444444444444,\"#bd3786\"],[0.5555555555555556,\"#d8576b\"],[0.6666666666666666,\"#ed7953\"],[0.7777777777777778,\"#fb9f3a\"],[0.8888888888888888,\"#fdca26\"],[1.0,\"#f0f921\"]]}],\"contourcarpet\":[{\"type\":\"contourcarpet\",\"colorbar\":{\"outlinewidth\":0,\"ticks\":\"\"}}],\"contour\":[{\"type\":\"contour\",\"colorbar\":{\"outlinewidth\":0,\"ticks\":\"\"},\"colorscale\":[[0.0,\"#0d0887\"],[0.1111111111111111,\"#46039f\"],[0.2222222222222222,\"#7201a8\"],[0.3333333333333333,\"#9c179e\"],[0.4444444444444444,\"#bd3786\"],[0.5555555555555556,\"#d8576b\"],[0.6666666666666666,\"#ed7953\"],[0.7777777777777778,\"#fb9f3a\"],[0.8888888888888888,\"#fdca26\"],[1.0,\"#f0f921\"]]}],\"surface\":[{\"type\":\"surface\",\"colorbar\":{\"outlinewidth\":0,\"ticks\":\"\"},\"colorscale\":[[0.0,\"#0d0887\"],[0.1111111111111111,\"#46039f\"],[0.2222222222222222,\"#7201a8\"],[0.3333333333333333,\"#9c179e\"],[0.4444444444444444,\"#bd3786\"],[0.5555555555555556,\"#d8576b\"],[0.6666666666666666,\"#ed7953\"],[0.7777777777777778,\"#fb9f3a\"],[0.8888888888888888,\"#fdca26\"],[1.0,\"#f0f921\"]]}],\"mesh3d\":[{\"type\":\"mesh3d\",\"colorbar\":{\"outlinewidth\":0,\"ticks\":\"\"}}],\"scatter\":[{\"fillpattern\":{\"fillmode\":\"overlay\",\"size\":10,\"solidity\":0.2},\"type\":\"scatter\"}],\"parcoords\":[{\"type\":\"parcoords\",\"line\":{\"colorbar\":{\"outlinewidth\":0,\"ticks\":\"\"}}}],\"scatterpolargl\":[{\"type\":\"scatterpolargl\",\"marker\":{\"colorbar\":{\"outlinewidth\":0,\"ticks\":\"\"}}}],\"bar\":[{\"error_x\":{\"color\":\"#2a3f5f\"},\"error_y\":{\"color\":\"#2a3f5f\"},\"marker\":{\"line\":{\"color\":\"#E5ECF6\",\"width\":0.5},\"pattern\":{\"fillmode\":\"overlay\",\"size\":10,\"solidity\":0.2}},\"type\":\"bar\"}],\"scattergeo\":[{\"type\":\"scattergeo\",\"marker\":{\"colorbar\":{\"outlinewidth\":0,\"ticks\":\"\"}}}],\"scatterpolar\":[{\"type\":\"scatterpolar\",\"marker\":{\"colorbar\":{\"outlinewidth\":0,\"ticks\":\"\"}}}],\"histogram\":[{\"marker\":{\"pattern\":{\"fillmode\":\"overlay\",\"size\":10,\"solidity\":0.2}},\"type\":\"histogram\"}],\"scattergl\":[{\"type\":\"scattergl\",\"marker\":{\"colorbar\":{\"outlinewidth\":0,\"ticks\":\"\"}}}],\"scatter3d\":[{\"type\":\"scatter3d\",\"line\":{\"colorbar\":{\"outlinewidth\":0,\"ticks\":\"\"}},\"marker\":{\"colorbar\":{\"outlinewidth\":0,\"ticks\":\"\"}}}],\"scattermapbox\":[{\"type\":\"scattermapbox\",\"marker\":{\"colorbar\":{\"outlinewidth\":0,\"ticks\":\"\"}}}],\"scatterternary\":[{\"type\":\"scatterternary\",\"marker\":{\"colorbar\":{\"outlinewidth\":0,\"ticks\":\"\"}}}],\"scattercarpet\":[{\"type\":\"scattercarpet\",\"marker\":{\"colorbar\":{\"outlinewidth\":0,\"ticks\":\"\"}}}],\"carpet\":[{\"aaxis\":{\"endlinecolor\":\"#2a3f5f\",\"gridcolor\":\"white\",\"linecolor\":\"white\",\"minorgridcolor\":\"white\",\"startlinecolor\":\"#2a3f5f\"},\"baxis\":{\"endlinecolor\":\"#2a3f5f\",\"gridcolor\":\"white\",\"linecolor\":\"white\",\"minorgridcolor\":\"white\",\"startlinecolor\":\"#2a3f5f\"},\"type\":\"carpet\"}],\"table\":[{\"cells\":{\"fill\":{\"color\":\"#EBF0F8\"},\"line\":{\"color\":\"white\"}},\"header\":{\"fill\":{\"color\":\"#C8D4E3\"},\"line\":{\"color\":\"white\"}},\"type\":\"table\"}],\"barpolar\":[{\"marker\":{\"line\":{\"color\":\"#E5ECF6\",\"width\":0.5},\"pattern\":{\"fillmode\":\"overlay\",\"size\":10,\"solidity\":0.2}},\"type\":\"barpolar\"}],\"pie\":[{\"automargin\":true,\"type\":\"pie\"}]},\"layout\":{\"autotypenumbers\":\"strict\",\"colorway\":[\"#636efa\",\"#EF553B\",\"#00cc96\",\"#ab63fa\",\"#FFA15A\",\"#19d3f3\",\"#FF6692\",\"#B6E880\",\"#FF97FF\",\"#FECB52\"],\"font\":{\"color\":\"#2a3f5f\"},\"hovermode\":\"closest\",\"hoverlabel\":{\"align\":\"left\"},\"paper_bgcolor\":\"white\",\"plot_bgcolor\":\"#E5ECF6\",\"polar\":{\"bgcolor\":\"#E5ECF6\",\"angularaxis\":{\"gridcolor\":\"white\",\"linecolor\":\"white\",\"ticks\":\"\"},\"radialaxis\":{\"gridcolor\":\"white\",\"linecolor\":\"white\",\"ticks\":\"\"}},\"ternary\":{\"bgcolor\":\"#E5ECF6\",\"aaxis\":{\"gridcolor\":\"white\",\"linecolor\":\"white\",\"ticks\":\"\"},\"baxis\":{\"gridcolor\":\"white\",\"linecolor\":\"white\",\"ticks\":\"\"},\"caxis\":{\"gridcolor\":\"white\",\"linecolor\":\"white\",\"ticks\":\"\"}},\"coloraxis\":{\"colorbar\":{\"outlinewidth\":0,\"ticks\":\"\"}},\"colorscale\":{\"sequential\":[[0.0,\"#0d0887\"],[0.1111111111111111,\"#46039f\"],[0.2222222222222222,\"#7201a8\"],[0.3333333333333333,\"#9c179e\"],[0.4444444444444444,\"#bd3786\"],[0.5555555555555556,\"#d8576b\"],[0.6666666666666666,\"#ed7953\"],[0.7777777777777778,\"#fb9f3a\"],[0.8888888888888888,\"#fdca26\"],[1.0,\"#f0f921\"]],\"sequentialminus\":[[0.0,\"#0d0887\"],[0.1111111111111111,\"#46039f\"],[0.2222222222222222,\"#7201a8\"],[0.3333333333333333,\"#9c179e\"],[0.4444444444444444,\"#bd3786\"],[0.5555555555555556,\"#d8576b\"],[0.6666666666666666,\"#ed7953\"],[0.7777777777777778,\"#fb9f3a\"],[0.8888888888888888,\"#fdca26\"],[1.0,\"#f0f921\"]],\"diverging\":[[0,\"#8e0152\"],[0.1,\"#c51b7d\"],[0.2,\"#de77ae\"],[0.3,\"#f1b6da\"],[0.4,\"#fde0ef\"],[0.5,\"#f7f7f7\"],[0.6,\"#e6f5d0\"],[0.7,\"#b8e186\"],[0.8,\"#7fbc41\"],[0.9,\"#4d9221\"],[1,\"#276419\"]]},\"xaxis\":{\"gridcolor\":\"white\",\"linecolor\":\"white\",\"ticks\":\"\",\"title\":{\"standoff\":15},\"zerolinecolor\":\"white\",\"automargin\":true,\"zerolinewidth\":2},\"yaxis\":{\"gridcolor\":\"white\",\"linecolor\":\"white\",\"ticks\":\"\",\"title\":{\"standoff\":15},\"zerolinecolor\":\"white\",\"automargin\":true,\"zerolinewidth\":2},\"scene\":{\"xaxis\":{\"backgroundcolor\":\"#E5ECF6\",\"gridcolor\":\"white\",\"linecolor\":\"white\",\"showbackground\":true,\"ticks\":\"\",\"zerolinecolor\":\"white\",\"gridwidth\":2},\"yaxis\":{\"backgroundcolor\":\"#E5ECF6\",\"gridcolor\":\"white\",\"linecolor\":\"white\",\"showbackground\":true,\"ticks\":\"\",\"zerolinecolor\":\"white\",\"gridwidth\":2},\"zaxis\":{\"backgroundcolor\":\"#E5ECF6\",\"gridcolor\":\"white\",\"linecolor\":\"white\",\"showbackground\":true,\"ticks\":\"\",\"zerolinecolor\":\"white\",\"gridwidth\":2}},\"shapedefaults\":{\"line\":{\"color\":\"#2a3f5f\"}},\"annotationdefaults\":{\"arrowcolor\":\"#2a3f5f\",\"arrowhead\":0,\"arrowwidth\":1},\"geo\":{\"bgcolor\":\"white\",\"landcolor\":\"#E5ECF6\",\"subunitcolor\":\"white\",\"showland\":true,\"showlakes\":true,\"lakecolor\":\"white\"},\"title\":{\"x\":0.05},\"mapbox\":{\"style\":\"light\"}}},\"height\":260},                        {\"responsive\": true}                    ).then(function(){\n",
       "                            \n",
       "var gd = document.getElementById('40db4404-2a6d-48d3-b567-dd31c5ee23a6');\n",
       "var x = new MutationObserver(function (mutations, observer) {{\n",
       "        var display = window.getComputedStyle(gd).display;\n",
       "        if (!display || display === 'none') {{\n",
       "            console.log([gd, 'removed!']);\n",
       "            Plotly.purge(gd);\n",
       "            observer.disconnect();\n",
       "        }}\n",
       "}});\n",
       "\n",
       "// Listen for the removal of the full notebook cells\n",
       "var notebookContainer = gd.closest('#notebook-container');\n",
       "if (notebookContainer) {{\n",
       "    x.observe(notebookContainer, {childList: true});\n",
       "}}\n",
       "\n",
       "// Listen for the clearing of the current output cell\n",
       "var outputEl = gd.closest('.output');\n",
       "if (outputEl) {{\n",
       "    x.observe(outputEl, {childList: true});\n",
       "}}\n",
       "\n",
       "                        })                };                });            </script>        </div>"
      ]
     },
     "metadata": {},
     "output_type": "display_data"
    }
   ],
   "source": [
    "# I'll ue graph_objects to create a Bullet Chart that shows the murders for Florida \n",
    "# against the largest numbers in the US\n",
    "\n",
    "import plotly.graph_objects as go\n",
    "\n",
    "fig = go.Figure(go.Indicator(\n",
    "    mode = \"number+gauge+delta\",\n",
    "    gauge = {'shape': \"bullet\"},\n",
    "    value = 5,\n",
    "    delta = {'reference': 35.4},\n",
    "    domain = {'x': [0, 1], 'y': [0, 1]},\n",
    "    title = {'text': \"Murder\"}))\n",
    "fig.update_layout(height = 260)\n",
    "fig.show()"
   ]
  },
  {
   "cell_type": "markdown",
   "id": "1a6ae2be",
   "metadata": {},
   "source": [
    "## Stacked Horizontal Bar Plot"
   ]
  },
  {
   "cell_type": "code",
   "execution_count": 72,
   "id": "07a8f42e",
   "metadata": {},
   "outputs": [],
   "source": [
    "# I will drop some columns that are not needed\n",
    "education = education.drop(['percent_graduates_sat', 'pupil_staff_ratio', 'dropout_rate'], axis=1)"
   ]
  },
  {
   "cell_type": "code",
   "execution_count": 77,
   "id": "4579067e",
   "metadata": {},
   "outputs": [],
   "source": [
    "education_update = education.loc[education['state'] == 'Florida']"
   ]
  },
  {
   "cell_type": "code",
   "execution_count": 78,
   "id": "39f69328",
   "metadata": {},
   "outputs": [
    {
     "data": {
      "image/png": "[encoded data removed]",
      "text/plain": [
       "<Figure size 432x288 with 1 Axes>"
      ]
     },
     "metadata": {},
     "output_type": "display_data"
    }
   ],
   "source": [
    "# Create a Stacked Horizontal Bar Plot for florida for reading, math, and writing\n",
    "education_update.plot.barh(stacked=True);"
   ]
  },
  {
   "cell_type": "code",
   "execution_count": null,
   "id": "f7a2c978",
   "metadata": {},
   "outputs": [],
   "source": []
  }
 ],
 "metadata": {
  "kernelspec": {
   "display_name": "Python 3",
   "language": "python",
   "name": "python3"
  },
  "language_info": {
   "codemirror_mode": {
    "name": "ipython",
    "version": 3
   },
   "file_extension": ".py",
   "mimetype": "text/x-python",
   "name": "python",
   "nbconvert_exporter": "python",
   "pygments_lexer": "ipython3",
   "version": "3.8.8"
  }
 },
 "nbformat": 4,
 "nbformat_minor": 5
}
